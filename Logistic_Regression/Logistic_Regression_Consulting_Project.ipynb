{
 "cells": [
  {
   "cell_type": "markdown",
   "metadata": {},
   "source": [
    "# Logistic Regression Consulting Project"
   ]
  },
  {
   "cell_type": "markdown",
   "metadata": {},
   "source": [
    "## Binary Customer Churn\n",
    "\n",
    "A marketing agency has many customers that use their service to produce ads for the client/customer websites. They've noticed that they have quite a bit of churn in clients. They basically randomly assign account managers right now, but want you to create a machine learning model that will help predict which customers will churn (stop buying their service) so that they can correctly assign the customers most at risk to churn an account manager. Luckily they have some historical data, can you help them out? Create a classification algorithm that will help classify whether or not a customer churned. Then the company can test this against incoming data for future customers to predict which customers will churn and assign them an account manager.\n",
    "\n",
    "The data is saved as customer_churn.csv. Here are the fields and their definitions:\n",
    "\n",
    "    Name : Name of the latest contact at Company\n",
    "    Age: Customer Age\n",
    "    Total_Purchase: Total Ads Purchased\n",
    "    Account_Manager: Binary 0=No manager, 1= Account manager assigned\n",
    "    Years: Totaly Years as a customer\n",
    "    Num_sites: Number of websites that use the service.\n",
    "    Onboard_date: Date that the name of the latest contact was onboarded\n",
    "    Location: Client HQ Address\n",
    "    Company: Name of Client Company\n",
    "    \n",
    "Once you've created the model and evaluated it, test out the model on some new data (you can think of this almost like a hold-out set) that your client has provided, saved under new_customers.csv. The client wants to know which customers are most likely to churn given this data (they don't have the label yet)."
   ]
  },
  {
   "cell_type": "code",
   "execution_count": 1,
   "metadata": {},
   "outputs": [],
   "source": [
    "from pyspark.sql import SparkSession"
   ]
  },
  {
   "cell_type": "code",
   "execution_count": 2,
   "metadata": {},
   "outputs": [],
   "source": [
    "spark = SparkSession.builder.appName(\"lr_model\").getOrCreate()"
   ]
  },
  {
   "cell_type": "code",
   "execution_count": 17,
   "metadata": {},
   "outputs": [],
   "source": [
    "df = spark.read.csv('customer_churn.csv',inferSchema=True, header=True)"
   ]
  },
  {
   "cell_type": "code",
   "execution_count": 18,
   "metadata": {},
   "outputs": [
    {
     "name": "stdout",
     "output_type": "stream",
     "text": [
      "root\n",
      " |-- Names: string (nullable = true)\n",
      " |-- Age: double (nullable = true)\n",
      " |-- Total_Purchase: double (nullable = true)\n",
      " |-- Account_Manager: integer (nullable = true)\n",
      " |-- Years: double (nullable = true)\n",
      " |-- Num_Sites: double (nullable = true)\n",
      " |-- Onboard_date: timestamp (nullable = true)\n",
      " |-- Location: string (nullable = true)\n",
      " |-- Company: string (nullable = true)\n",
      " |-- Churn: integer (nullable = true)\n",
      "\n"
     ]
    }
   ],
   "source": [
    "df.printSchema()"
   ]
  },
  {
   "cell_type": "code",
   "execution_count": 9,
   "metadata": {},
   "outputs": [
    {
     "name": "stdout",
     "output_type": "stream",
     "text": [
      "+--------------+----+--------------+---------------+-----+---------+-------------------+--------------------+----------------+\n",
      "|         Names| Age|Total_Purchase|Account_Manager|Years|Num_Sites|       Onboard_date|            Location|         Company|\n",
      "+--------------+----+--------------+---------------+-----+---------+-------------------+--------------------+----------------+\n",
      "| Andrew Mccall|37.0|       9935.53|              1| 7.71|      8.0|2011-08-29 18:37:54|38612 Johnny Stra...|        King Ltd|\n",
      "|Michele Wright|23.0|       7526.94|              1| 9.28|     15.0|2013-07-22 18:19:54|21083 Nicole Junc...|   Cannon-Benson|\n",
      "|  Jeremy Chang|65.0|         100.0|              1|  1.0|     15.0|2006-12-11 07:48:13|085 Austin Views ...|Barron-Robertson|\n",
      "+--------------+----+--------------+---------------+-----+---------+-------------------+--------------------+----------------+\n",
      "only showing top 3 rows\n",
      "\n"
     ]
    }
   ],
   "source": [
    "df.show(3)"
   ]
  },
  {
   "cell_type": "code",
   "execution_count": 10,
   "metadata": {},
   "outputs": [],
   "source": [
    "from pyspark.ml.feature import StringIndexer, OneHotEncoderEstimator, VectorAssembler"
   ]
  },
  {
   "cell_type": "code",
   "execution_count": 13,
   "metadata": {},
   "outputs": [],
   "source": [
    "location_indexer = StringIndexer(inputCol=\"Location\", outputCol=\"Location_index\")\n",
    "location_encoder = OneHotEncoderEstimator(inputCols=[\"Location_index\"], outputCols=[\"Location_encode\"])\n",
    "\n",
    "Company_indexer = StringIndexer(inputCol=\"Company\", outputCol=\"Company_index\")\n",
    "Company_encoder = OneHotEncoderEstimator(inputCols=[\"Company_index\"], outputCols=[\"Company_encode\"])"
   ]
  },
  {
   "cell_type": "code",
   "execution_count": 19,
   "metadata": {},
   "outputs": [],
   "source": [
    "assembeler = VectorAssembler(inputCols=[\"Age\", \"Total_Purchase\", \"Account_Manager\", \n",
    "                                        \"Years\", \"Num_Sites\", \"Location_encode\", \"Company_encode\"], outputCol=\"features\")"
   ]
  },
  {
   "cell_type": "code",
   "execution_count": 14,
   "metadata": {},
   "outputs": [],
   "source": [
    "from pyspark.ml.classification import LogisticRegression"
   ]
  },
  {
   "cell_type": "code",
   "execution_count": 20,
   "metadata": {},
   "outputs": [],
   "source": [
    "model = LogisticRegression(featuresCol=\"features\", labelCol=\"Churn\")"
   ]
  },
  {
   "cell_type": "code",
   "execution_count": 21,
   "metadata": {},
   "outputs": [],
   "source": [
    "from pyspark.ml import Pipeline"
   ]
  },
  {
   "cell_type": "code",
   "execution_count": 46,
   "metadata": {},
   "outputs": [],
   "source": [
    "pipeline = Pipeline(stages=[location_indexer,Company_indexer,\n",
    "                           location_encoder,Company_encoder,\n",
    "                           assembeler])"
   ]
  },
  {
   "cell_type": "code",
   "execution_count": 47,
   "metadata": {},
   "outputs": [],
   "source": [
    "df = pipeline.fit(df).transform(df)"
   ]
  },
  {
   "cell_type": "code",
   "execution_count": 49,
   "metadata": {},
   "outputs": [],
   "source": [
    "train, test = df.randomSplit([0.7, 0.3])"
   ]
  },
  {
   "cell_type": "code",
   "execution_count": 50,
   "metadata": {},
   "outputs": [],
   "source": [
    "trained_model = model.fit(train)"
   ]
  },
  {
   "cell_type": "code",
   "execution_count": 68,
   "metadata": {},
   "outputs": [],
   "source": [
    "result = trained_model.transform(test)"
   ]
  },
  {
   "cell_type": "code",
   "execution_count": 69,
   "metadata": {},
   "outputs": [],
   "source": [
    "from pyspark.ml.evaluation import BinaryClassificationEvaluator"
   ]
  },
  {
   "cell_type": "code",
   "execution_count": 81,
   "metadata": {},
   "outputs": [],
   "source": [
    "evalutor = BinaryClassificationEvaluator(rawPredictionCol=\"prediction\", labelCol=\"Churn\", metricName=\"areaUnderROC\")"
   ]
  },
  {
   "cell_type": "code",
   "execution_count": 82,
   "metadata": {},
   "outputs": [
    {
     "data": {
      "text/plain": [
       "Param(parent='BinaryClassificationEvaluator_4fa2a9d877b3db934593', name='metricName', doc='metric name in evaluation (areaUnderROC|areaUnderPR)')"
      ]
     },
     "execution_count": 82,
     "metadata": {},
     "output_type": "execute_result"
    }
   ],
   "source": [
    "evalutor.metricName"
   ]
  },
  {
   "cell_type": "code",
   "execution_count": 83,
   "metadata": {},
   "outputs": [
    {
     "data": {
      "text/plain": [
       "0.5068376068376068"
      ]
     },
     "execution_count": 83,
     "metadata": {},
     "output_type": "execute_result"
    }
   ],
   "source": [
    "evalutor.evaluate(result)"
   ]
  },
  {
   "cell_type": "code",
   "execution_count": 32,
   "metadata": {},
   "outputs": [
    {
     "name": "stdout",
     "output_type": "stream",
     "text": [
      "root\n",
      " |-- Names: string (nullable = true)\n",
      " |-- Age: double (nullable = true)\n",
      " |-- Total_Purchase: double (nullable = true)\n",
      " |-- Account_Manager: integer (nullable = true)\n",
      " |-- Years: double (nullable = true)\n",
      " |-- Num_Sites: double (nullable = true)\n",
      " |-- Onboard_date: timestamp (nullable = true)\n",
      " |-- Location: string (nullable = true)\n",
      " |-- Company: string (nullable = true)\n",
      " |-- Churn: integer (nullable = true)\n",
      " |-- Location_index: double (nullable = false)\n",
      " |-- Company_index: double (nullable = false)\n",
      " |-- Location_encode: vector (nullable = true)\n",
      " |-- Company_encode: vector (nullable = true)\n",
      " |-- features: vector (nullable = true)\n",
      " |-- rawPrediction: vector (nullable = true)\n",
      " |-- probability: vector (nullable = true)\n",
      " |-- prediction: double (nullable = false)\n",
      "\n"
     ]
    }
   ],
   "source": [
    "result.printSchema()"
   ]
  },
  {
   "cell_type": "code",
   "execution_count": 84,
   "metadata": {},
   "outputs": [
    {
     "name": "stdout",
     "output_type": "stream",
     "text": [
      "+------------------+----+--------------+---------------+-----+---------+-------------------+--------------------+--------------------+-----+--------------+-------------+-----------------+-----------------+--------------------+--------------------+--------------------+----------+\n",
      "|             Names| Age|Total_Purchase|Account_Manager|Years|Num_Sites|       Onboard_date|            Location|             Company|Churn|Location_index|Company_index|  Location_encode|   Company_encode|            features|       rawPrediction|         probability|prediction|\n",
      "+------------------+----+--------------+---------------+-----+---------+-------------------+--------------------+--------------------+-----+--------------+-------------+-----------------+-----------------+--------------------+--------------------+--------------------+----------+\n",
      "|       Aaron Meyer|45.0|       9598.03|              0|  5.0|      7.0|2010-07-17 03:30:38|35821 Bailey Skyw...|Steele, Bates and...|    0|         559.0|         58.0|(899,[559],[1.0])| (872,[58],[1.0])|(1776,[0,1,3,4,56...|[15.1681062950744...|[0.99999974143185...|       0.0|\n",
      "|        Adam Gomez|48.0|       6495.01|              1| 5.57|     12.0|2013-02-06 05:15:06|2889 Coffey Parks...|      Thompson Group|    1|         696.0|        163.0|(899,[696],[1.0])|(872,[163],[1.0])|(1776,[0,1,2,3,4,...|[10.1284716765445...|[0.99996007514925...|       0.0|\n",
      "|        Adam Moore|41.0|      12659.88|              0| 4.55|      4.0|2010-01-22 19:08:48|339 Jeffrey River...|Little, White and...|    0|         334.0|        357.0|(899,[334],[1.0])|(872,[357],[1.0])|(1776,[0,1,3,4,33...|[18.2892500297594...|[0.99999998859541...|       0.0|\n",
      "|       Adam Strong|50.0|      11775.75|              1| 4.83|     10.0|2011-02-06 15:02:27|33071 Melody Isle...|     Harvey-Mcdowell|    1|         441.0|        130.0|(899,[441],[1.0])|(872,[130],[1.0])|(1776,[0,1,2,3,4,...|[15.3207438651583...|[0.99999977803454...|       0.0|\n",
      "|       Adam Waters|40.0|      11185.62|              0| 6.26|     12.0|2006-03-06 18:36:47|6040 Juan Forge P...|            Reed Ltd|    1|           7.0|        675.0|  (899,[7],[1.0])|(872,[675],[1.0])|(1776,[0,1,3,4,12...|[10.0401484793912...|[0.99995638860513...|       0.0|\n",
      "|        Alex Banks|36.0|       8918.52|              0| 3.62|      8.0|2016-09-18 16:37:16|2109 Moore Lights...|        Jones-Meyers|    0|         654.0|        133.0|(899,[654],[1.0])|(872,[133],[1.0])|(1776,[0,1,3,4,65...|[10.9535119355068...|[0.99998250384528...|       0.0|\n",
      "|Alexandra Phillips|32.0|       9472.72|              1|  1.0|     10.0|2009-03-26 05:25:30|078 Ortega Vista ...|Smith, Harris and...|    0|         181.0|        458.0|(899,[181],[1.0])|(872,[458],[1.0])|(1776,[0,1,2,3,4,...|[8.09382422342679...|[0.99969467372417...|       0.0|\n",
      "|      Alexis Allen|43.0|       7686.13|              1| 7.17|      8.0|2016-09-27 07:00:35|7448 Jason Ridges...|      Jones and Sons|    0|         150.0|        706.0|(899,[150],[1.0])|(872,[706],[1.0])|(1776,[0,1,2,3,4,...|[13.1163160776572...|[0.99999798787280...|       0.0|\n",
      "|       Alexis Hill|39.0|       6351.79|              0| 5.86|      6.0|2012-03-24 16:13:42|335 Dyer Shoals P...|   Campbell and Sons|    1|          58.0|        859.0| (899,[58],[1.0])|(872,[859],[1.0])|(1776,[0,1,3,4,63...|[12.6173102434060...|[0.99999668586385...|       0.0|\n",
      "| Allison Clark DDS|43.0|      14241.75|              0| 3.73|     12.0|2006-07-11 11:32:51|PSC 9202, Box 199...|      Robinson-Perez|    0|         691.0|        674.0|(899,[691],[1.0])|(872,[674],[1.0])|(1776,[0,1,3,4,69...|[12.2825826177451...|[0.99999536830306...|       0.0|\n",
      "|  Amanda Hernandez|38.0|      10298.29|              1| 5.07|      9.0|2015-05-31 21:15:18|4792 Amy Wall Apt...|Barry, Brown and ...|    0|         262.0|        260.0|(899,[262],[1.0])|(872,[260],[1.0])|(1776,[0,1,2,3,4,...|[11.8020482859329...|[0.99999251085392...|       0.0|\n",
      "|    Amanda Roberts|43.0|       8601.01|              0| 5.65|     12.0|2007-02-03 17:52:51|PSC 9561, Box 407...|           Evans LLC|    1|         176.0|          5.0|(899,[176],[1.0])|  (872,[5],[1.0])|(1776,[0,1,3,4,18...|[-5.0042011449547...|[0.00666497927826...|       1.0|\n",
      "|       Amanda Wade|39.0|       8880.17|              0|  4.0|      8.0|2011-03-05 06:46:38|869 Kathleen Dam ...|Jordan, Beasley a...|    0|         736.0|        690.0|(899,[736],[1.0])|(872,[690],[1.0])|(1776,[0,1,3,4,74...|[11.8995912841946...|[0.99999320686542...|       0.0|\n",
      "|   Amanda Williams|37.0|       8614.75|              0| 5.03|      9.0|2011-07-07 15:43:46|79676 Johnson Vil...|        Jones-Fisher|    0|         748.0|        353.0|(899,[748],[1.0])|(872,[353],[1.0])|(1776,[0,1,3,4,75...|[10.3519367267629...|[0.99996807013110...|       0.0|\n",
      "|    Amber Williams|40.0|       8530.23|              1| 3.66|     10.0|2012-03-02 18:33:21|2896 Diana Spur S...|Lee, Daniels and ...|    0|         144.0|        316.0|(899,[144],[1.0])|(872,[316],[1.0])|(1776,[0,1,2,3,4,...|[10.3712859705866...|[0.99996868199195...|       0.0|\n",
      "|       Andrew Kent|45.0|      12374.97|              0| 4.66|      7.0|2011-12-24 17:00:01|79904 Jacobson We...|Briggs, Cross and...|    0|         211.0|        127.0|(899,[211],[1.0])|(872,[127],[1.0])|(1776,[0,1,3,4,21...|[16.6140527311494...|[0.99999993910122...|       0.0|\n",
      "|    Andrew Leonard|41.0|      14099.03|              1| 4.56|      7.0|2016-03-02 16:50:06|Unit 6154 Box 511...|Cruz, Carter and ...|    0|         662.0|        556.0|(899,[662],[1.0])|(872,[556],[1.0])|(1776,[0,1,2,3,4,...|[16.5362092059365...|[0.99999993417125...|       0.0|\n",
      "|   Angela Holloway|40.0|      12919.92|              0| 4.23|     11.0|2009-10-29 16:25:56|7488 Dana Mountai...|       Ray-Rodriguez|    0|         598.0|        222.0|(899,[598],[1.0])|(872,[222],[1.0])|(1776,[0,1,3,4,60...|[11.6376974071248...|[0.99999117309605...|       0.0|\n",
      "|         Ann White|43.0|       8950.33|              0| 6.76|      9.0|2008-06-25 00:45:14|91968 Pena Stream...|         Hancock LLC|    0|         737.0|        558.0|(899,[737],[1.0])|(872,[558],[1.0])|(1776,[0,1,3,4,74...|[12.5857414001649...|[0.99999657957183...|       0.0|\n",
      "|       Anna Bryant|39.0|       8801.86|              1| 4.43|     10.0|2007-03-18 11:14:44|30668 Isabella Fr...|         Bennett Inc|    1|         129.0|        274.0|(899,[129],[1.0])|(872,[274],[1.0])|(1776,[0,1,2,3,4,...|[10.3062178623208...|[0.99996657649912...|       0.0|\n",
      "+------------------+----+--------------+---------------+-----+---------+-------------------+--------------------+--------------------+-----+--------------+-------------+-----------------+-----------------+--------------------+--------------------+--------------------+----------+\n",
      "only showing top 20 rows\n",
      "\n"
     ]
    }
   ],
   "source": [
    "result.show()"
   ]
  },
  {
   "cell_type": "code",
   "execution_count": null,
   "metadata": {},
   "outputs": [],
   "source": []
  }
 ],
 "metadata": {
  "anaconda-cloud": {},
  "kernelspec": {
   "display_name": "Python 3",
   "language": "python",
   "name": "python3"
  },
  "language_info": {
   "codemirror_mode": {
    "name": "ipython",
    "version": 3
   },
   "file_extension": ".py",
   "mimetype": "text/x-python",
   "name": "python",
   "nbconvert_exporter": "python",
   "pygments_lexer": "ipython3",
   "version": "3.6.3"
  }
 },
 "nbformat": 4,
 "nbformat_minor": 2
}
