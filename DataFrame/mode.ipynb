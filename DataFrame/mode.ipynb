{
 "cells": [
  {
   "cell_type": "code",
   "execution_count": 1,
   "metadata": {},
   "outputs": [],
   "source": [
    "import pandas as pd\n",
    "import numpy as np"
   ]
  },
  {
   "cell_type": "code",
   "execution_count": 51,
   "metadata": {},
   "outputs": [
    {
     "data": {
      "text/html": [
       "<div>\n",
       "<style scoped>\n",
       "    .dataframe tbody tr th:only-of-type {\n",
       "        vertical-align: middle;\n",
       "    }\n",
       "\n",
       "    .dataframe tbody tr th {\n",
       "        vertical-align: top;\n",
       "    }\n",
       "\n",
       "    .dataframe thead th {\n",
       "        text-align: right;\n",
       "    }\n",
       "</style>\n",
       "<table border=\"1\" class=\"dataframe\">\n",
       "  <thead>\n",
       "    <tr style=\"text-align: right;\">\n",
       "      <th></th>\n",
       "      <th>year</th>\n",
       "      <th>team</th>\n",
       "      <th>wins</th>\n",
       "      <th>losses</th>\n",
       "    </tr>\n",
       "  </thead>\n",
       "  <tbody>\n",
       "    <tr>\n",
       "      <th>0</th>\n",
       "      <td>2010.0</td>\n",
       "      <td>Bears</td>\n",
       "      <td>11.0</td>\n",
       "      <td>5.0</td>\n",
       "    </tr>\n",
       "    <tr>\n",
       "      <th>1</th>\n",
       "      <td>2011.0</td>\n",
       "      <td>Bears</td>\n",
       "      <td>8.0</td>\n",
       "      <td>8.0</td>\n",
       "    </tr>\n",
       "    <tr>\n",
       "      <th>2</th>\n",
       "      <td>2012.0</td>\n",
       "      <td>Bears</td>\n",
       "      <td>NaN</td>\n",
       "      <td>6.0</td>\n",
       "    </tr>\n",
       "    <tr>\n",
       "      <th>3</th>\n",
       "      <td>2011.0</td>\n",
       "      <td>Packers</td>\n",
       "      <td>15.0</td>\n",
       "      <td>1.0</td>\n",
       "    </tr>\n",
       "    <tr>\n",
       "      <th>4</th>\n",
       "      <td>NaN</td>\n",
       "      <td>None</td>\n",
       "      <td>11.0</td>\n",
       "      <td>5.0</td>\n",
       "    </tr>\n",
       "    <tr>\n",
       "      <th>5</th>\n",
       "      <td>2010.0</td>\n",
       "      <td>Lions</td>\n",
       "      <td>6.0</td>\n",
       "      <td>NaN</td>\n",
       "    </tr>\n",
       "    <tr>\n",
       "      <th>6</th>\n",
       "      <td>2011.0</td>\n",
       "      <td>Lions</td>\n",
       "      <td>10.0</td>\n",
       "      <td>6.0</td>\n",
       "    </tr>\n",
       "    <tr>\n",
       "      <th>7</th>\n",
       "      <td>2012.0</td>\n",
       "      <td>Lions</td>\n",
       "      <td>4.0</td>\n",
       "      <td>12.0</td>\n",
       "    </tr>\n",
       "    <tr>\n",
       "      <th>8</th>\n",
       "      <td>2013.0</td>\n",
       "      <td>Lions</td>\n",
       "      <td>3.0</td>\n",
       "      <td>13.0</td>\n",
       "    </tr>\n",
       "  </tbody>\n",
       "</table>\n",
       "</div>"
      ],
      "text/plain": [
       "     year     team  wins  losses\n",
       "0  2010.0    Bears  11.0     5.0\n",
       "1  2011.0    Bears   8.0     8.0\n",
       "2  2012.0    Bears   NaN     6.0\n",
       "3  2011.0  Packers  15.0     1.0\n",
       "4     NaN     None  11.0     5.0\n",
       "5  2010.0    Lions   6.0     NaN\n",
       "6  2011.0    Lions  10.0     6.0\n",
       "7  2012.0    Lions   4.0    12.0\n",
       "8  2013.0    Lions   3.0    13.0"
      ]
     },
     "execution_count": 51,
     "metadata": {},
     "output_type": "execute_result"
    }
   ],
   "source": [
    "data = {'year': [2010, 2011, 2012, 2011, None, 2010, 2011, 2012, 2013],\n",
    "        'team': ['Bears', 'Bears', 'Bears', 'Packers', None, 'Lions', 'Lions', 'Lions', 'Lions'],\n",
    "        'wins': [11, 8, None, 15, 11, 6, 10, 4, 3],\n",
    "        'losses': [5, 8, 6, 1, 5, None, 6, 12, 13]}\n",
    "football = pd.DataFrame(data, columns=['year', 'team', 'wins', 'losses'])\n",
    "football"
   ]
  },
  {
   "cell_type": "markdown",
   "metadata": {},
   "source": [
    "## Pyspark"
   ]
  },
  {
   "cell_type": "code",
   "execution_count": 52,
   "metadata": {},
   "outputs": [],
   "source": [
    "from pyspark.sql import SparkSession\n",
    "spark = SparkSession.builder.appName(\"mode\").getOrCreate()"
   ]
  },
  {
   "cell_type": "code",
   "execution_count": 53,
   "metadata": {},
   "outputs": [
    {
     "name": "stdout",
     "output_type": "stream",
     "text": [
      "+------+-------+----+------+\n",
      "|  year|   team|wins|losses|\n",
      "+------+-------+----+------+\n",
      "|2010.0|  Bears|11.0|   5.0|\n",
      "|2011.0|  Bears| 8.0|   8.0|\n",
      "|2012.0|  Bears| NaN|   6.0|\n",
      "|2011.0|Packers|15.0|   1.0|\n",
      "|   NaN|   null|11.0|   5.0|\n",
      "|2010.0|  Lions| 6.0|   NaN|\n",
      "|2011.0|  Lions|10.0|   6.0|\n",
      "|2012.0|  Lions| 4.0|  12.0|\n",
      "|2013.0|  Lions| 3.0|  13.0|\n",
      "+------+-------+----+------+\n",
      "\n"
     ]
    }
   ],
   "source": [
    "ds = spark.createDataFrame(football)\n",
    "ds.show()"
   ]
  },
  {
   "cell_type": "code",
   "execution_count": 54,
   "metadata": {},
   "outputs": [
    {
     "name": "stdout",
     "output_type": "stream",
     "text": [
      "root\n",
      " |-- year: double (nullable = true)\n",
      " |-- team: string (nullable = true)\n",
      " |-- wins: double (nullable = true)\n",
      " |-- losses: double (nullable = true)\n",
      "\n"
     ]
    }
   ],
   "source": [
    "ds.printSchema()"
   ]
  },
  {
   "cell_type": "code",
   "execution_count": 55,
   "metadata": {},
   "outputs": [
    {
     "name": "stdout",
     "output_type": "stream",
     "text": [
      "year double\n",
      "team string\n",
      "wins double\n",
      "losses double\n"
     ]
    }
   ],
   "source": [
    "for name, dtype in ds.dtypes:\n",
    "    print(name, dtype)"
   ]
  },
  {
   "cell_type": "code",
   "execution_count": 66,
   "metadata": {},
   "outputs": [
    {
     "name": "stdout",
     "output_type": "stream",
     "text": [
      "team 4 9\n"
     ]
    }
   ],
   "source": [
    "for col, dtype in ds.dtypes:\n",
    "    if dtype == \"string\":\n",
    "        max_count = ds.groupby(col).count().select(max(\"count\")).collect()[0][0]\n",
    "        sum_count = ds.groupby(col).count().select(sum(\"count\")).collect()[0][0]\n",
    "        print(col, max_count, sum_count)"
   ]
  },
  {
   "cell_type": "code",
   "execution_count": 50,
   "metadata": {},
   "outputs": [
    {
     "name": "stdout",
     "output_type": "stream",
     "text": [
      "size: 8\n",
      "year 2011.25 2011.0 1.0350983390135584\n",
      "size: 8\n",
      "wins 8.5 8.0 4.035556254807296\n",
      "size: 8\n",
      "losses 7.0 6.0 3.9279220242478625\n"
     ]
    }
   ],
   "source": [
    "for col, dtype in ds.dtypes:\n",
    "    if dtype != \"string\":\n",
    "        dn = ds.select(col).na.drop()\n",
    "        print(\"size:\", dn.count())\n",
    "        mean_col = dn.select(mean(col)).collect()[0][0]\n",
    "        median_col = dn.stat.approxQuantile(col, [0.5],0.0)[0]\n",
    "        std_col = dn.select(stddev(col)).collect()[0][0]\n",
    "        print(col, mean_col, median_col, std_col)\n",
    "        "
   ]
  },
  {
   "cell_type": "code",
   "execution_count": 35,
   "metadata": {},
   "outputs": [
    {
     "name": "stdout",
     "output_type": "stream",
     "text": [
      "year 2011.3333333333333 10.0 1.0000000000000056\n",
      "wins 8.666666666666666 10.0 3.8078865529319543\n",
      "losses 7.333333333333333 10.0 3.8078865529319543\n"
     ]
    }
   ],
   "source": [
    "for col, dtype in ds.dtypes:\n",
    "    if dtype != \"string\":\n",
    "        mean_col = ds.select(mean(col)).collect()[0][0]\n",
    "        median_col = ds.stat.approxQuantile(\"wins\", [0.5],0.0)[0]\n",
    "        std_col = ds.select(stddev(col)).collect()[0][0]\n",
    "        print(col, mean_col, median_col, std_col)\n",
    "        "
   ]
  },
  {
   "cell_type": "code",
   "execution_count": null,
   "metadata": {},
   "outputs": [],
   "source": []
  }
 ],
 "metadata": {
  "kernelspec": {
   "display_name": "Python 3",
   "language": "python",
   "name": "python3"
  },
  "language_info": {
   "codemirror_mode": {
    "name": "ipython",
    "version": 3
   },
   "file_extension": ".py",
   "mimetype": "text/x-python",
   "name": "python",
   "nbconvert_exporter": "python",
   "pygments_lexer": "ipython3",
   "version": "3.6.3"
  }
 },
 "nbformat": 4,
 "nbformat_minor": 2
}
